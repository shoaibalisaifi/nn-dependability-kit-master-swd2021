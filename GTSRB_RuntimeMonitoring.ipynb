{
 "cells": [
  {
   "cell_type": "markdown",
   "metadata": {},
   "source": [
    "# Runtime Monitoring Neuron Activation Patterns (2) - German Traffic Sign Recognition Benchmark (GTSRB)\n",
    "\n",
    "For detailed explanation, please refer to the jupyter notebook 1_MNIST_Pytorch_CNN.ipydb"
   ]
  },
  {
   "cell_type": "code",
   "execution_count": 1,
   "metadata": {},
   "outputs": [],
   "source": [
    "# Put these at the top of every notebook, to get automatic reloading and inline plotting\n",
    "%reload_ext autoreload\n",
    "%autoreload 2\n",
    "%matplotlib inline"
   ]
  },
  {
   "cell_type": "code",
   "execution_count": 2,
   "metadata": {},
   "outputs": [],
   "source": [
    "import numpy.random\n",
    "# Fix the number for repeatability (we have also stored the trained model)\n",
    "numpy.random.seed(42)\n",
    "\n",
    "import torch\n",
    "import torch.nn as nn\n",
    "import torchvision\n",
    "import torchvision.transforms as transforms\n",
    "\n",
    "\n",
    "# Device configuration\n",
    "device = torch.device('cuda' if torch.cuda.is_available() else 'cpu')"
   ]
  },
  {
   "cell_type": "markdown",
   "metadata": {},
   "source": [
    "Start by accessing the root folder where internally, subfolders are images with folder name being their classified result.\n",
    "\n",
    "The dataset should be available at the following site \n",
    "http://benchmark.ini.rub.de/?section=gtsrb&subsection=dataset\n",
    "\n",
    "Here we just pick the 26K smaller training set (the online version), as the training and test set can all be directly loaded using PyTorch included functionalities. "
   ]
  },
  {
   "cell_type": "code",
   "execution_count": 3,
   "metadata": {},
   "outputs": [],
   "source": [
    "from torchvision.datasets import ImageFolder\n",
    "from torchvision.transforms import ToTensor\n",
    "\n",
    "standard_transform = transforms.Compose([\n",
    "        transforms.ToTensor(),\n",
    "        # Change the image to PIL format, such that resize can be done\n",
    "        transforms.ToPILImage(),\n",
    "        transforms.Resize((32,32)),\n",
    "        # Bring it back to tensor\n",
    "        transforms.ToTensor()\n",
    "    ])\n",
    "\n",
    "# Here the data is not be normalized to [-1,1]\n",
    "\n",
    "# Change the folder based on your specific needs. \n",
    "# This one is a smaller (26640 examples) data set (for online training), so the \n",
    "data = ImageFolder(root=r\"C:\\Users\\Shoaib\\Desktop\\nn-dependability-kit-master\\data\\GTSRB\\Training\",  transform=standard_transform)\n"
   ]
  },
  {
   "cell_type": "code",
   "execution_count": 4,
   "metadata": {
    "scrolled": true
   },
   "outputs": [
    {
     "name": "stdout",
     "output_type": "stream",
     "text": [
      "['00000', '00001', '00002', '00003', '00004', '00005', '00006', '00007', '00008', '00009', '00010', '00011', '00012', '00013', '00014', '00015', '00016', '00017', '00018', '00019', '00020', '00021', '00022', '00023', '00024', '00025', '00026', '00027', '00028', '00029', '00030', '00031', '00032', '00033', '00034', '00035', '00036', '00037', '00038', '00039', '00040', '00041', '00042']\n"
     ]
    }
   ],
   "source": [
    "print(data.classes)"
   ]
  },
  {
   "cell_type": "markdown",
   "metadata": {},
   "source": [
    "- 0 \t Speed limit (20km/h)\n",
    "- 1 \t Speed limit (30km/h)\n",
    "- 2 \t Speed limit (50km/h)\n",
    "- 3 \t Speed limit (60km/h)\n",
    "- 4 \t Speed limit (70km/h)\n",
    "- 5 \t Speed limit (80km/h)\n",
    "- 6 \t End of speed limit (80km/h)\n",
    "- 7 \t Speed limit (100km/h)\n",
    "- 8 \t Speed limit (120km/h)\n",
    "- 9 \t No passing\n",
    "- 10 \t No passing for vechiles over 3.5 metric tons\n",
    "- 11 \t Right-of-way at the next intersection\n",
    "- 12 \t Priority road\n",
    "- 13 \t Yield\n",
    "- 14 \t Stop\n",
    "- 15 \t No vechiles\n",
    "- 16 \t Vechiles over 3.5 metric tons prohibited\n",
    "- 17 \t No entry\n",
    "- 18 \t General caution\n",
    "- 19 \t Dangerous curve to the left\n",
    "- 20 \t Dangerous curve to the right\n",
    "- 21 Double curve\n",
    "- 22 \t Bumpy road\n",
    "- 23 \t Slippery road\n",
    "- 24 \t Road narrows on the right\n",
    "- 25 \t Road work\n",
    "- 26 \t Traffic signals\n",
    "- 27 \t Pedestrians\n",
    "- 28 \t Children crossing\n",
    "- 29 \t Bicycles crossing\n",
    "- 30 \t Beware of ice/snow\n",
    "- 31 \t Wild animals crossing\n",
    "- 32 \t End of all speed and passing limits\n",
    "- 33 \t Turn right ahead\n",
    "- 34 \t Turn left ahead\n",
    "- 35 \t Ahead only\n",
    "- 36 \t Go straight or right\n",
    "- 37 \t Go straight or left\n",
    "- 38 \t Keep right\n",
    "- 39 \t Keep left\n",
    "- 40 \t Roundabout mandatory\n",
    "- 41 \t End of no passing\n",
    "- 42 \t End of no passing by vechiles over 3.5 metric tons\n",
    "\n"
   ]
  },
  {
   "cell_type": "code",
   "execution_count": 5,
   "metadata": {},
   "outputs": [],
   "source": [
    "# Hyper-parameters \n",
    "num_classes = 43\n",
    "learning_rate = 0.001\n",
    "sizeOfNeuronsToMonitor = 84\n",
    "batch_size = 64\n",
    "num_epochs = 5"
   ]
  },
  {
   "cell_type": "code",
   "execution_count": 6,
   "metadata": {},
   "outputs": [],
   "source": [
    "from torch.utils.data import DataLoader\n",
    "\n",
    "loader = DataLoader(data, batch_size=batch_size, shuffle=True)"
   ]
  },
  {
   "cell_type": "code",
   "execution_count": 7,
   "metadata": {},
   "outputs": [
    {
     "data": {
      "image/png": "[encoded data removed]",
      "text/plain": [
       "<Figure size 144x144 with 1 Axes>"
      ]
     },
     "metadata": {
      "needs_background": "light"
     },
     "output_type": "display_data"
    }
   ],
   "source": [
    "import matplotlib.pyplot as plt\n",
    "import numpy as np\n",
    "import util\n",
    "\n",
    "# get some random training images\n",
    "dataiter = iter(loader)\n",
    "images, labels = dataiter.next()\n",
    "\n",
    "# print(images.shape)\n",
    "util.displayGTSRB(images[0].numpy())\n"
   ]
  },
  {
   "cell_type": "code",
   "execution_count": 8,
   "metadata": {},
   "outputs": [],
   "source": [
    "import torch.nn as nn\n",
    "import torch.nn.functional as F\n",
    "\n",
    "\n",
    "class Net(nn.Module):\n",
    "    def __init__(self):\n",
    "        super(Net, self).__init__()\n",
    "        self.conv1 = nn.Conv2d(3, 40, 5)\n",
    "        self.conv1_bn = nn.BatchNorm2d(40)\n",
    "        self.pool = nn.MaxPool2d(2, 2)\n",
    "        self.conv2 = nn.Conv2d(40, 20, 5)\n",
    "        self.conv2_bn = nn.BatchNorm2d(20)\n",
    "        self.fc1 = nn.Linear(20 * 5 * 5, 240)        \n",
    "        self.fc2 = nn.Linear(240, sizeOfNeuronsToMonitor)\n",
    "        self.fc3 = nn.Linear(sizeOfNeuronsToMonitor, num_classes)\n",
    "\n",
    "    def forward(self, x):\n",
    "        x = self.pool(F.relu(self.conv1_bn(self.conv1(x))))\n",
    "        x = self.pool(F.relu(self.conv2_bn((self.conv2(x)))))\n",
    "        # Flatten it to an array of inputs\n",
    "        x = x.view(-1, 20 * 5 * 5)\n",
    "        x = F.relu(self.fc1(x))\n",
    "        x = F.relu(self.fc2(x))\n",
    "        x = self.fc3(x)\n",
    "        return x \n",
    "\n",
    "    def forwardWithIntermediate(self, x):\n",
    "        x = self.pool(F.relu(self.conv1_bn(self.conv1(x))))\n",
    "        x = self.pool(F.relu(self.conv2_bn((self.conv2(x)))))\n",
    "        # Flatten it to an array of inputs\n",
    "        x = x.view(-1, 20 * 5 * 5)\n",
    "        x = F.relu(self.fc1(x))\n",
    "        intermediateValues = F.relu(self.fc2(x))\n",
    "        x = self.fc3(intermediateValues)\n",
    "        return x , intermediateValues\n"
   ]
  },
  {
   "cell_type": "code",
   "execution_count": 9,
   "metadata": {},
   "outputs": [],
   "source": [
    "net = Net()"
   ]
  },
  {
   "cell_type": "code",
   "execution_count": 10,
   "metadata": {},
   "outputs": [],
   "source": [
    "# .. to load pre-trained model:\n",
    "net.load_state_dict(torch.load('models/3_model_GTSRB_CNN_27k_train99%.ckpt'))"
   ]
  },
  {
   "cell_type": "code",
   "execution_count": 11,
   "metadata": {},
   "outputs": [],
   "source": [
    "import torch.optim as optim\n",
    "\n",
    "# Loss and optimizer\n",
    "criterion = nn.CrossEntropyLoss()\n",
    "optimizer = torch.optim.Adam(net.parameters(), lr=learning_rate)  \n",
    "\n",
    "furtherTrain = False\n",
    "\n",
    "if furtherTrain: \n",
    "\n",
    "    # Train the model\n",
    "    total_step = len(loader)\n",
    "    for epoch in range(num_epochs):\n",
    "        for i, (images, labels) in enumerate(loader):  \n",
    "            # Move tensors to the configured device\n",
    "            labels = labels.to(device)\n",
    "\n",
    "            # Forward pass\n",
    "            outputs = net(images)\n",
    "            loss = criterion(outputs, labels)\n",
    "\n",
    "            # Backward and optimize\n",
    "            optimizer.zero_grad()\n",
    "            loss.backward()\n",
    "            optimizer.step()\n",
    "\n",
    "            if (i+1) % 100 == 0:\n",
    "                print ('Epoch [{}/{}], Step [{}/{}], Loss: {:.4f}' \n",
    "                       .format(epoch+1, num_epochs, i+1, total_step, loss.item()))\n",
    "\n",
    "\n",
    "    print('Finished Training')"
   ]
  },
  {
   "cell_type": "markdown",
   "metadata": {},
   "source": [
    "For testing, we should also use the test data, where they are separated into folders based on their classes, followed by shuffling."
   ]
  },
  {
   "cell_type": "code",
   "execution_count": 12,
   "metadata": {},
   "outputs": [],
   "source": [
    "from torch.utils.data import DataLoader\n",
    "\n",
    "testdata = ImageFolder(root=r\"C:\\Users\\Shoaib\\Desktop\\nn-dependability-kit-master\\data\\GTSRB\\Online-Test-sort\", transform=standard_transform)\n",
    "testloader = DataLoader(testdata, shuffle=True)"
   ]
  },
  {
   "cell_type": "code",
   "execution_count": 13,
   "metadata": {},
   "outputs": [
    {
     "data": {
      "image/png": "[encoded data removed]",
      "text/plain": [
       "<Figure size 144x144 with 1 Axes>"
      ]
     },
     "metadata": {
      "needs_background": "light"
     },
     "output_type": "display_data"
    }
   ],
   "source": [
    "dataiter = iter(testloader)\n",
    "images, labels = dataiter.next()\n",
    "\n",
    "util.displayGTSRB(images[0].numpy())"
   ]
  },
  {
   "cell_type": "code",
   "execution_count": 14,
   "metadata": {},
   "outputs": [
    {
     "name": "stdout",
     "output_type": "stream",
     "text": [
      "tensor([12])\n",
      "tensor([12])\n"
     ]
    }
   ],
   "source": [
    "outputs = net(images)\n",
    "\n",
    "_, predicted = torch.max(outputs, 1)\n",
    "\n",
    "print(predicted)\n",
    "print(labels)"
   ]
  },
  {
   "cell_type": "code",
   "execution_count": 15,
   "metadata": {},
   "outputs": [
    {
     "name": "stdout",
     "output_type": "stream",
     "text": [
      "Accuracy of the network over test images: 96.39589466146869 %\n",
      "\n",
      "\n",
      "Accuracy of     0 : 88 %\n",
      "Accuracy of     1 : 98 %\n",
      "Accuracy of     2 : 98 %\n",
      "Accuracy of     3 : 98 %\n",
      "Accuracy of     4 : 95 %\n",
      "Accuracy of     5 : 92 %\n",
      "Accuracy of     6 : 97 %\n",
      "Accuracy of     7 : 98 %\n",
      "Accuracy of     8 : 96 %\n",
      "Accuracy of     9 : 98 %\n",
      "Accuracy of    10 : 98 %\n",
      "Accuracy of    11 : 95 %\n",
      "Accuracy of    12 : 99 %\n",
      "Accuracy of    13 : 99 %\n",
      "Accuracy of    14 : 96 %\n",
      "Accuracy of    15 : 93 %\n",
      "Accuracy of    16 : 100 %\n",
      "Accuracy of    17 : 99 %\n",
      "Accuracy of    18 : 97 %\n",
      "Accuracy of    19 : 100 %\n",
      "Accuracy of    20 : 99 %\n",
      "Accuracy of    21 : 37 %\n",
      "Accuracy of    22 : 98 %\n",
      "Accuracy of    23 : 87 %\n",
      "Accuracy of    24 : 94 %\n",
      "Accuracy of    25 : 99 %\n",
      "Accuracy of    26 : 91 %\n",
      "Accuracy of    27 : 100 %\n",
      "Accuracy of    28 : 91 %\n",
      "Accuracy of    29 : 62 %\n",
      "Accuracy of    30 : 92 %\n",
      "Accuracy of    31 : 96 %\n",
      "Accuracy of    32 : 100 %\n",
      "Accuracy of    33 : 95 %\n",
      "Accuracy of    34 : 100 %\n",
      "Accuracy of    35 : 99 %\n",
      "Accuracy of    36 : 100 %\n",
      "Accuracy of    37 : 100 %\n",
      "Accuracy of    38 : 92 %\n",
      "Accuracy of    39 : 96 %\n",
      "Accuracy of    40 : 90 %\n",
      "Accuracy of    41 : 100 %\n",
      "Accuracy of    42 : 100 %\n"
     ]
    }
   ],
   "source": [
    "class_correct = list(0. for i in range(num_classes))\n",
    "class_total = list(0. for i in range(num_classes))\n",
    "\n",
    "with torch.no_grad():\n",
    "    \n",
    "    correct = 0\n",
    "    total = 0\n",
    "    for data in testloader:\n",
    "        images, labels = data\n",
    "        outputs = net(images)\n",
    "        _, predicted = torch.max(outputs, 1)\n",
    "        c = (predicted == labels)\n",
    "        label = labels[0]\n",
    "        class_correct[label] += c[0].item()\n",
    "        class_total[label] += 1\n",
    "        total += labels.size(0)\n",
    "        correct += (predicted == labels).sum().item()\n",
    "    \n",
    "    print('Accuracy of the network over test images: {} %\\n\\n'.format(100 * correct / total))\n",
    "\n",
    "for i in range(num_classes):\n",
    "    print('Accuracy of %5s : %2d %%' % (\n",
    "        i, 100 * class_correct[i] / class_total[i]))\n",
    "    "
   ]
  },
  {
   "cell_type": "code",
   "execution_count": 16,
   "metadata": {},
   "outputs": [
    {
     "name": "stdout",
     "output_type": "stream",
     "text": [
      "Accuracy of the network over train images: 99.92867867867868 %\n",
      "\n",
      "\n"
     ]
    }
   ],
   "source": [
    "with torch.no_grad():\n",
    "    \n",
    "    correct = 0\n",
    "    total = 0\n",
    "    for data in loader:\n",
    "        images, labels = data\n",
    "        outputs = net(images)\n",
    "        _, predicted = torch.max(outputs, 1)\n",
    "        c = (predicted == labels)\n",
    "        total += labels.size(0)\n",
    "        correct += (predicted == labels).sum().item()\n",
    "    \n",
    "    print('Accuracy of the network over train images: {} %\\n\\n'.format(100 * correct / total))\n",
    "\n",
    "\n",
    "    "
   ]
  },
  {
   "cell_type": "markdown",
   "metadata": {},
   "source": [
    "# Runtime monitoring"
   ]
  },
  {
   "cell_type": "markdown",
   "metadata": {},
   "source": [
    "We consider monitoring the stop sign class, where apart from monitoring the complete neurons in fc3 (a total of 84 neurons), we take those whose impact (represented by the outgoing weight - in this case, the weight is the partial derivitative) is higher. "
   ]
  },
  {
   "cell_type": "code",
   "execution_count": 17,
   "metadata": {},
   "outputs": [
    {
     "name": "stdout",
     "output_type": "stream",
     "text": [
      "fc3.weight tensor([-0.8384, -0.6619, -0.6385, -0.3713,  0.0685, -0.9585, -0.1548, -0.8818,\n",
      "        -0.7139, -0.9509,  0.1551, -0.5067, -1.6361, -0.0824, -0.6102, -0.9059,\n",
      "        -0.0051, -0.9088, -0.1104, -1.0027, -0.4363,  0.0878, -0.1808, -0.6895,\n",
      "        -0.5737,  0.1477, -0.0297, -0.4882, -0.0085,  0.0617, -0.0161, -0.3357,\n",
      "        -0.0453, -0.0137,  0.0956, -0.8550, -0.1750, -0.5308, -0.5634, -0.1976,\n",
      "        -1.1292, -0.1395, -0.9964, -0.2545, -0.7173,  0.0244, -0.9996, -0.0917,\n",
      "         0.0716, -1.2760, -0.2818, -0.3805, -0.6418, -1.0037, -1.3294, -0.0093,\n",
      "         0.1419, -0.0160,  0.0150, -0.5254, -0.9061, -0.2340, -1.5008, -0.1813,\n",
      "         0.1064, -0.1602, -0.2963, -0.6089, -0.7957,  0.1285, -0.0941, -0.0856,\n",
      "        -0.0253, -0.5752, -0.6543, -0.4661, -0.8133, -0.5880, -0.7916, -1.1879,\n",
      "        -0.6502,  0.1297, -0.7753, -0.5738])\n",
      "neurons omitted for monitoring: 62\n"
     ]
    }
   ],
   "source": [
    "stopSignClass = 14\n",
    "\n",
    "weightsStopSignClass = None\n",
    "neuronIndicesToBeOmitted = {}\n",
    "\n",
    "# As a parameter to derive the number of neurons to be tracked\n",
    "filteringRate = 0.45\n",
    "\n",
    "for name, param in net.named_parameters():\n",
    "    if name == \"fc3.weight\":\n",
    "        print(name, param.data[stopSignClass])\n",
    "        weightsStopSignClass = param.data[stopSignClass].numpy()\n",
    "        \n",
    "absWeight = np.absolute(weightsStopSignClass)\n",
    "maxWeightQuantity = np.max(absWeight)\n",
    "\n",
    "neuronIndicesToBeOmittedByStopSign = set()\n",
    "\n",
    "for i in range(len(absWeight)):\n",
    "    if(absWeight[i] <= filteringRate * maxWeightQuantity):\n",
    "        neuronIndicesToBeOmittedByStopSign.add(i)\n",
    "\n",
    "# print(neuronIndicesToBeOmittedByStopSign)\n",
    "\n",
    "neuronIndicesToBeOmitted[stopSignClass] = neuronIndicesToBeOmittedByStopSign\n",
    "print(\"neurons omitted for monitoring: \"+str(len(neuronIndicesToBeOmitted[stopSignClass])))"
   ]
  },
  {
   "cell_type": "markdown",
   "metadata": {},
   "source": [
    "## Part 1. Trigger neuron on-off activation pattern monitoring\n",
    "\n",
    "Here we pretend that test set is the \"real data\" after deployment, so we only record neuron activation patterns inside the training set. \n",
    "\n",
    "Notice: The BDD can consume a lot memory (>12GB)! This is because we do not apply any variable re-ordering techniques to reduce the size. Before actual deployment for run-time monitoring, one should perform proper reordering.\n",
    "\n",
    "Therefore, here we restrict ourselves to the classification of stop sign, so the monitor size can be smaller. "
   ]
  },
  {
   "cell_type": "code",
   "execution_count": 19,
   "metadata": {},
   "outputs": [],
   "source": [
    "from nndependability.rv import napmonitor\n",
    "monitor = napmonitor.NAP_Monitor(num_classes, sizeOfNeuronsToMonitor, neuronIndicesToBeOmitted)"
   ]
  },
  {
   "cell_type": "code",
   "execution_count": 20,
   "metadata": {},
   "outputs": [
    {
     "name": "stdout",
     "output_type": "stream",
     "text": [
      "Accuracy of the network on the all train images: 99.93618618618619 %\n"
     ]
    }
   ],
   "source": [
    "## Scan the training set and store activation pattern on BDD\n",
    "\n",
    "stopSignClass = 14\n",
    "\n",
    "testOnAllClasses = False\n",
    "\n",
    "with torch.no_grad():\n",
    "    correct = 0\n",
    "    total = 0\n",
    "    for images, labels in loader:\n",
    "        labels = labels.to(device)\n",
    "        outputs, intermediateValues = net.forwardWithIntermediate(images)\n",
    "        _, predicted = torch.max(outputs.data, 1)\n",
    "        total += labels.size(0)\n",
    "        correct += (predicted == labels).sum().item()\n",
    "\n",
    "        if testOnAllClasses:\n",
    "            # Add the batch of neuron activation patterns to the monitor, for Hamming distance = 0, and for all classes. \n",
    "            monitor.addAllNeuronPatternsToClass(intermediateValues.numpy(), predicted.numpy(), labels.numpy(), -1)\n",
    "        else:\n",
    "            monitor.addAllNeuronPatternsToClass(intermediateValues.numpy(), predicted.numpy(), labels.numpy(), stopSignClass)            \n",
    "\n",
    "     \n",
    "    print('Accuracy of the network on the all train images: {} %'.format(100 * correct / total))\n"
   ]
  },
  {
   "cell_type": "code",
   "execution_count": 21,
   "metadata": {},
   "outputs": [],
   "source": [
    "# We don't need to compute gradients (for memory efficiency)\n",
    "\n",
    "def testMonitor(testOnAllClasses, loader, monitor):\n",
    "    \n",
    "    with torch.no_grad():\n",
    "        \n",
    "        total = 0\n",
    "        correct = 0\n",
    "        correctStopSign = 0\n",
    "        outofActivationPattern = 0\n",
    "        outofActivationPatternAndResultWrong = 0\n",
    "\n",
    "        totalStopSign = 0\n",
    "        for images, labels in loader:\n",
    "            labels = labels.to(device)\n",
    "            outputs, intermediateValues = net.forwardWithIntermediate(images)\n",
    "            _, predicted = torch.max(outputs.data, 1)\n",
    "            total += labels.size(0)\n",
    "            correct += (predicted == labels).sum().item()\n",
    "\n",
    "\n",
    "            # Additional processing for runtime monitoring\n",
    "            predictedNp = predicted.numpy()\n",
    "\n",
    "            result = (predicted == labels)\n",
    "            res = result.numpy()\n",
    "\n",
    "            # Iterate over each image in the batch\n",
    "            for exampleIndex in range(intermediateValues.shape[0]):   \n",
    "                # Check if the prediction says that it is a stop sign\n",
    "                if testOnAllClasses or ((not testOnAllClasses) and predicted.numpy()[exampleIndex] == stopSignClass):\n",
    "                    if not monitor.isPatternContained(intermediateValues.numpy()[exampleIndex,:], predicted.numpy()[exampleIndex]):\n",
    "                        outofActivationPattern = outofActivationPattern +1\n",
    "                        if res[exampleIndex] == False :\n",
    "                            outofActivationPatternAndResultWrong = outofActivationPatternAndResultWrong+ 1\n",
    "            \n",
    "    if testOnAllClasses:\n",
    "        print('Accuracy of the network on the GTSRB test images: {} %'.format(100 * correct / total))\n",
    "        print('Out-of-activation pattern on the GTSRB test images: {} %'.format(100 * outofActivationPattern / total))\n",
    "        print('Out-of-activation pattern & misclassified / out-of-activation pattern : {} %'.format(100 * outofActivationPatternAndResultWrong / (total - correct)))\n",
    "\n",
    "    else: \n",
    "        print('Accuracy of the network on total GTSRB test images, for stop sign: {} %'.format(100 * class_correct[stopSignClass] / class_total[stopSignClass]))\n",
    "        print('Out-of-extended activation pattern on GTSRB test images, for stop sign: {} %'.format(100 * outofActivationPattern / class_total[stopSignClass]))\n",
    "        print('Out-of-extended activation pattern & misclassified / out-of-extended activation pattern (stop sign) : {} %'.format(100 * outofActivationPatternAndResultWrong / outofActivationPattern))\n"
   ]
  },
  {
   "cell_type": "code",
   "execution_count": 22,
   "metadata": {},
   "outputs": [
    {
     "name": "stdout",
     "output_type": "stream",
     "text": [
      "Accuracy of the network on total GTSRB test images, for stop sign: 96.66666666666667 %\n",
      "Out-of-extended activation pattern on GTSRB test images, for stop sign: 31.25 %\n",
      "Out-of-extended activation pattern & misclassified / out-of-extended activation pattern (stop sign) : 9.333333333333334 %\n"
     ]
    }
   ],
   "source": [
    "testMonitor(testOnAllClasses, testloader, monitor)"
   ]
  },
  {
   "cell_type": "markdown",
   "metadata": {},
   "source": [
    "#### Produce adversarial training example using iterative FGSM and check if the activation pattern is within"
   ]
  },
  {
   "cell_type": "code",
   "execution_count": 23,
   "metadata": {},
   "outputs": [],
   "source": [
    "import util \n",
    "\n",
    "\n",
    "def performAdversarialExamination(testOnAllClasses, loader, monitor):\n",
    "    \n",
    "    originalImages = []\n",
    "    originalLabels = []\n",
    "    attackedImages = []\n",
    "\n",
    "    notInNeuronActivationPattern = 0\n",
    "    totalPerturbed = 0\n",
    "\n",
    "    # Note: Only perform analysis when the monitor takes all classes\n",
    "    if testOnAllClasses:\n",
    "\n",
    "        for images, labels in loader:\n",
    "            # print(list(images.size())[0])\n",
    "\n",
    "            for i in range(list(images.size())[0]):\n",
    "                if testOnAllClasses:\n",
    "                    adv_img, noise, attackSuccessful = util.iterative_FGSM_attack(images[i].unsqueeze(0), labels[i].unsqueeze(0), net)\n",
    "\n",
    "                    if (attackSuccessful) :\n",
    "                        totalPerturbed = totalPerturbed + 1\n",
    "\n",
    "                        out, intermediateValues = net.forwardWithIntermediate(adv_img)  \n",
    "                        _, predicted = torch.max(out.data, 1)\n",
    "                        iv = intermediateValues.detach().numpy()\n",
    "                        mat = np.zeros(intermediateValues.shape)\n",
    "                        ivabs = np.greater(iv, mat)\n",
    "\n",
    "                        for exampleIndex in range(iv.shape[0]): \n",
    "                            if not monitor.isOnOffPatternContained(ivabs[exampleIndex,:], predicted.numpy()[exampleIndex]):\n",
    "                                notInNeuronActivationPattern = notInNeuronActivationPattern +1\n",
    "\n",
    "\n",
    "            print('not in neuron activation pattern / all total perturbed: {} %'.format(100 * notInNeuronActivationPattern / totalPerturbed))\n",
    "    else:\n",
    "        # Try to perturb, hopefully perturbed to stop sign\n",
    "        targetedPerturbedClass = torch.ones(1, dtype=torch.long)\n",
    "        targetedPerturbedClass[0] = stopSignClass\n",
    "\n",
    "        for images, labels in loader:\n",
    "            # print(list(images.size())[0])\n",
    "\n",
    "            for i in range(list(images.size())[0]):\n",
    "                if(testOnAllClasses or ((not testOnAllClasses) and labels[i].unsqueeze(0) != stopSignClass)):\n",
    "                    # From those image that are not stop sign, and perturb them.\n",
    "                    adv_img, noise, attackSuccessful = util.iterative_targeted_FGSM_attack(images[i].unsqueeze(0), labels[i].unsqueeze(0), targetedPerturbedClass, net)\n",
    "\n",
    "                    if (attackSuccessful) :\n",
    "                        totalPerturbed = totalPerturbed + 1\n",
    "\n",
    "                        if(totalPerturbed % 100 == 0):\n",
    "                            print(totalPerturbed)\n",
    "                            originalImages.append(images[i])\n",
    "                            originalLabels.append(labels[i])\n",
    "                            attackedImages.append(adv_img)\n",
    "\n",
    "                        if(totalPerturbed > 2000):\n",
    "                            # In the worst case, we only perturn 2000 images\n",
    "                            break\n",
    "\n",
    "                        # util.displayGTSRB(adv_img[0].numpy())\n",
    "                        out, intermediateValues = net.forwardWithIntermediate(adv_img)  \n",
    "                        _, predicted = torch.max(out.data, 1)\n",
    "                        iv = intermediateValues.detach().numpy()\n",
    "                        mat = np.zeros(intermediateValues.shape)\n",
    "                        ivabs = np.greater(iv, mat)\n",
    "\n",
    "                        for exampleIndex in range(iv.shape[0]):                             \n",
    "                            if not monitor.isOnOffPatternContained(ivabs[exampleIndex,:], predicted.numpy()[exampleIndex]):\n",
    "                                notInNeuronActivationPattern = notInNeuronActivationPattern +1\n",
    "\n",
    "\n",
    "\n",
    "\n",
    "    if(totalPerturbed>0):\n",
    "        print('not in neuron activation pattern / all total perturbed: {} %'.format(100 * notInNeuronActivationPattern / totalPerturbed))\n",
    "        print('all total perturbed = '+str(totalPerturbed))\n",
    "    else:\n",
    "        print('No image can be perturbed to the desired class!')\n",
    "        "
   ]
  },
  {
   "cell_type": "code",
   "execution_count": 24,
   "metadata": {},
   "outputs": [],
   "source": [
    "isTestAdv = False"
   ]
  },
  {
   "cell_type": "code",
   "execution_count": 25,
   "metadata": {},
   "outputs": [],
   "source": [
    "if isTestAdv:\n",
    "    performAdversarialExamination(testOnAllClasses, testloader, monitor)"
   ]
  },
  {
   "cell_type": "code",
   "execution_count": 26,
   "metadata": {},
   "outputs": [],
   "source": [
    "monitor.enlargeSetByOneBitFluctuation(stopSignClass)"
   ]
  },
  {
   "cell_type": "code",
   "execution_count": 27,
   "metadata": {},
   "outputs": [
    {
     "name": "stdout",
     "output_type": "stream",
     "text": [
      "Accuracy of the network on total GTSRB test images, for stop sign: 96.66666666666667 %\n",
      "Out-of-extended activation pattern on GTSRB test images, for stop sign: 14.583333333333334 %\n",
      "Out-of-extended activation pattern & misclassified / out-of-extended activation pattern (stop sign) : 20.0 %\n"
     ]
    }
   ],
   "source": [
    "testMonitor(testOnAllClasses, testloader, monitor)"
   ]
  },
  {
   "cell_type": "code",
   "execution_count": 28,
   "metadata": {},
   "outputs": [],
   "source": [
    "if isTestAdv:\n",
    "    performAdversarialExamination(testOnAllClasses, testloader, monitor)"
   ]
  },
  {
   "cell_type": "code",
   "execution_count": 29,
   "metadata": {},
   "outputs": [],
   "source": [
    "monitor.enlargeSetByOneBitFluctuation(stopSignClass)"
   ]
  },
  {
   "cell_type": "code",
   "execution_count": 30,
   "metadata": {},
   "outputs": [
    {
     "name": "stdout",
     "output_type": "stream",
     "text": [
      "Accuracy of the network on total GTSRB test images, for stop sign: 96.66666666666667 %\n",
      "Out-of-extended activation pattern on GTSRB test images, for stop sign: 7.083333333333333 %\n",
      "Out-of-extended activation pattern & misclassified / out-of-extended activation pattern (stop sign) : 41.1764705882353 %\n"
     ]
    }
   ],
   "source": [
    "testMonitor(testOnAllClasses, testloader, monitor)"
   ]
  },
  {
   "cell_type": "code",
   "execution_count": 31,
   "metadata": {},
   "outputs": [],
   "source": [
    "if isTestAdv:\n",
    "    performAdversarialExamination(testOnAllClasses, testloader, monitor)"
   ]
  },
  {
   "cell_type": "code",
   "execution_count": 32,
   "metadata": {},
   "outputs": [],
   "source": [
    "monitor.enlargeSetByOneBitFluctuation(stopSignClass)"
   ]
  },
  {
   "cell_type": "code",
   "execution_count": 33,
   "metadata": {},
   "outputs": [
    {
     "name": "stdout",
     "output_type": "stream",
     "text": [
      "Accuracy of the network on total GTSRB test images, for stop sign: 96.66666666666667 %\n",
      "Out-of-extended activation pattern on GTSRB test images, for stop sign: 4.166666666666667 %\n",
      "Out-of-extended activation pattern & misclassified / out-of-extended activation pattern (stop sign) : 60.0 %\n"
     ]
    }
   ],
   "source": [
    "testMonitor(testOnAllClasses, testloader, monitor)"
   ]
  },
  {
   "cell_type": "code",
   "execution_count": 34,
   "metadata": {},
   "outputs": [],
   "source": [
    "if isTestAdv:\n",
    "    performAdversarialExamination(testOnAllClasses, testloader, monitor)"
   ]
  },
  {
   "cell_type": "markdown",
   "metadata": {},
   "source": [
    "### Pretty print some adversarial examples"
   ]
  },
  {
   "cell_type": "code",
   "execution_count": 35,
   "metadata": {},
   "outputs": [
    {
     "name": "stdout",
     "output_type": "stream",
     "text": [
      "tensor([2])\n",
      "tensor([2])\n"
     ]
    },
    {
     "data": {
      "image/png": "[encoded data removed]",
      "text/plain": [
       "<Figure size 144x144 with 1 Axes>"
      ]
     },
     "metadata": {
      "needs_background": "light"
     },
     "output_type": "display_data"
    }
   ],
   "source": [
    "dataiter = iter(testloader)\n",
    "images, labels = dataiter.next()\n",
    "\n",
    "outputs = net(images)\n",
    "\n",
    "_, predicted = torch.max(outputs, 1)\n",
    "\n",
    "print(predicted)\n",
    "print(labels)\n",
    "\n",
    "util.displayGTSRB(images[0].numpy())"
   ]
  },
  {
   "cell_type": "code",
   "execution_count": 36,
   "metadata": {},
   "outputs": [],
   "source": [
    "import util\n",
    "\n",
    "img = images[0].unsqueeze(0)\n",
    "label = labels[0].unsqueeze(0)\n",
    "\n",
    "adv_img, noise, attackSuccessful = util.iterative_FGSM_attack(img, label, net)"
   ]
  },
  {
   "cell_type": "code",
   "execution_count": 37,
   "metadata": {},
   "outputs": [
    {
     "data": {
      "image/png": "[encoded data removed]",
      "text/plain": [
       "<Figure size 144x144 with 1 Axes>"
      ]
     },
     "metadata": {
      "needs_background": "light"
     },
     "output_type": "display_data"
    }
   ],
   "source": [
    "if attackSuccessful :\n",
    "    util.displayGTSRB(adv_img[0].numpy())\n",
    "else: \n",
    "    print(\"iterative FGSM is not effective\")"
   ]
  },
  {
   "cell_type": "markdown",
   "metadata": {},
   "source": [
    "If we directly print the noise, we got complaints as the value is not within [0, 1]. Therefore, we add each pixel of RGB with 0.5 to display the effect. "
   ]
  },
  {
   "cell_type": "code",
   "execution_count": 38,
   "metadata": {},
   "outputs": [
    {
     "data": {
      "image/png": "[encoded data removed]",
      "text/plain": [
       "<Figure size 144x144 with 1 Axes>"
      ]
     },
     "metadata": {
      "needs_background": "light"
     },
     "output_type": "display_data"
    }
   ],
   "source": [
    "if attackSuccessful :\n",
    "    util.displayGTSRB(noise[0].numpy()+0.5)"
   ]
  },
  {
   "cell_type": "markdown",
   "metadata": {},
   "source": [
    "Let's check if the adversarial image produces any similar activation pattern.\n"
   ]
  },
  {
   "cell_type": "code",
   "execution_count": 39,
   "metadata": {},
   "outputs": [
    {
     "name": "stdout",
     "output_type": "stream",
     "text": [
      "tensor([[ -90.3798,   -5.2513,  -11.5750,  -72.4667,  -63.0964,  -52.9159,\n",
      "          -71.0478,  -75.8003,  -99.9143, -121.3817, -118.4956, -128.8662,\n",
      "         -116.7350,  -84.8572, -109.7790, -128.6175, -179.5124, -123.8683,\n",
      "         -118.9206, -182.4418, -133.9855, -130.9282, -197.7227, -176.7318,\n",
      "         -189.2557, -116.1103, -128.7339, -160.9360, -172.9485, -183.1019,\n",
      "         -139.2225,  -93.3966,  -87.4007, -110.6560, -151.6279, -127.2697,\n",
      "         -134.8406,  -83.6383, -103.8417, -108.4861,  -82.2541, -117.4554,\n",
      "         -105.7773]])\n"
     ]
    }
   ],
   "source": [
    "out, intermediateValues = net.forwardWithIntermediate(adv_img)        \n",
    "print(out.data)"
   ]
  },
  {
   "cell_type": "code",
   "execution_count": 40,
   "metadata": {},
   "outputs": [],
   "source": [
    "_, predicted = torch.max(out.data, 1)\n",
    "iv = intermediateValues.detach().numpy()\n",
    "mat = np.zeros(intermediateValues.shape)\n",
    "ivabs = np.greater(iv, mat)\n",
    "\n",
    "# Note: Only perform analysis when the monitor takes all classes\n",
    "if testOnAllClasses:\n",
    "    for exampleIndex in range(iv.shape[0]):      \n",
    "        if not monitor.isPatternContained(intermediateValues.detach().numpy()[exampleIndex,:], predicted.numpy()[exampleIndex]):\n",
    "            print(\"Adv example is not within activation pattern\")\n",
    "        else:\n",
    "            print(\"Adv example is within activation pattern\")"
   ]
  },
  {
   "cell_type": "markdown",
   "metadata": {},
   "source": [
    "# Part 2 (Optional). Trigger neuron interval activation pattern monitoring"
   ]
  },
  {
   "cell_type": "code",
   "execution_count": 41,
   "metadata": {},
   "outputs": [
    {
     "name": "stdout",
     "output_type": "stream",
     "text": [
      "fc3.weight tensor([-0.8384, -0.6619, -0.6385, -0.3713,  0.0685, -0.9585, -0.1548, -0.8818,\n",
      "        -0.7139, -0.9509,  0.1551, -0.5067, -1.6361, -0.0824, -0.6102, -0.9059,\n",
      "        -0.0051, -0.9088, -0.1104, -1.0027, -0.4363,  0.0878, -0.1808, -0.6895,\n",
      "        -0.5737,  0.1477, -0.0297, -0.4882, -0.0085,  0.0617, -0.0161, -0.3357,\n",
      "        -0.0453, -0.0137,  0.0956, -0.8550, -0.1750, -0.5308, -0.5634, -0.1976,\n",
      "        -1.1292, -0.1395, -0.9964, -0.2545, -0.7173,  0.0244, -0.9996, -0.0917,\n",
      "         0.0716, -1.2760, -0.2818, -0.3805, -0.6418, -1.0037, -1.3294, -0.0093,\n",
      "         0.1419, -0.0160,  0.0150, -0.5254, -0.9061, -0.2340, -1.5008, -0.1813,\n",
      "         0.1064, -0.1602, -0.2963, -0.6089, -0.7957,  0.1285, -0.0941, -0.0856,\n",
      "        -0.0253, -0.5752, -0.6543, -0.4661, -0.8133, -0.5880, -0.7916, -1.1879,\n",
      "        -0.6502,  0.1297, -0.7753, -0.5738])\n",
      "neurons omitted for monitoring: 44\n"
     ]
    }
   ],
   "source": [
    "stopSignClass = 14\n",
    "\n",
    "weightsStopSignClass = None\n",
    "neuronIndicesToBeOmitted = {}\n",
    "\n",
    "# As a parameter to derive the number of neurons to be tracked\n",
    "filteringRate = 0.3\n",
    "\n",
    "for name, param in net.named_parameters():\n",
    "    if name == \"fc3.weight\":\n",
    "        print(name, param.data[stopSignClass])\n",
    "        weightsStopSignClass = param.data[stopSignClass].numpy()\n",
    "        \n",
    "absWeight = np.absolute(weightsStopSignClass)\n",
    "maxWeightQuantity = np.max(absWeight)\n",
    "\n",
    "neuronIndicesToBeOmittedByStopSign = set()\n",
    "\n",
    "for i in range(len(absWeight)):\n",
    "    if(absWeight[i] <= filteringRate * maxWeightQuantity):\n",
    "        neuronIndicesToBeOmittedByStopSign.add(i)\n",
    "\n",
    "# print(neuronIndicesToBeOmittedByStopSign)\n",
    "\n",
    "neuronIndicesToBeOmitted[stopSignClass] = neuronIndicesToBeOmittedByStopSign\n",
    "print(\"neurons omitted for monitoring: \"+str(len(neuronIndicesToBeOmitted[stopSignClass])))"
   ]
  },
  {
   "cell_type": "code",
   "execution_count": 42,
   "metadata": {},
   "outputs": [
    {
     "name": "stdout",
     "output_type": "stream",
     "text": [
      "[[23.84101868  0.         14.02989769  0.          0.98127455  0.\n",
      "   0.          1.58131957  8.61328602  0.36971188 15.10953712  0.\n",
      "   0.          5.65993595  0.          0.          0.         14.74001217\n",
      "   0.         10.40142727  0.          0.          0.         11.35373211\n",
      "   8.7976532   0.          0.          0.          0.          9.78535843\n",
      "   0.          1.96265328  0.          0.          5.64415216  0.\n",
      "   0.          0.          7.00892544 14.99344921 13.96056271  0.36504731\n",
      "   0.12558451  0.          2.47232389  0.         12.94659042  0.\n",
      "   0.         16.8874855   3.19878101  0.          0.          0.\n",
      "  14.92460442  0.          0.          0.09421083  0.          2.88392067\n",
      "  15.87227535  0.          0.          0.          0.          0.\n",
      "   7.1283021  22.47145462  0.          0.          0.          1.39876974\n",
      "   0.          0.          2.51030326  0.          0.          0.\n",
      "  16.66568375  7.44975138  0.          0.         15.5441246   5.46522236]]\n"
     ]
    }
   ],
   "source": [
    "maximumValues = np.zeros([1, sizeOfNeuronsToMonitor])\n",
    "\n",
    "# We don't need to compute gradients (for memory efficiency)\n",
    "with torch.no_grad():\n",
    "    \n",
    "    total = 0\n",
    "    for images, labels in testloader:\n",
    "        labels = labels.to(device)\n",
    "        outputs, intermediateValues = net.forwardWithIntermediate(images)\n",
    "    \n",
    "    for exampleIndex in range(intermediateValues.shape[0]):   \n",
    "        maximumValues = np.maximum(intermediateValues.numpy()[exampleIndex,:], maximumValues)\n",
    "    \n",
    "    print(maximumValues)"
   ]
  },
  {
   "cell_type": "code",
   "execution_count": 43,
   "metadata": {},
   "outputs": [],
   "source": [
    "threshold1 = (maximumValues*1)/3\n",
    "threshold2 = (maximumValues*2)/3"
   ]
  },
  {
   "cell_type": "code",
   "execution_count": 44,
   "metadata": {},
   "outputs": [],
   "source": [
    "runIntervalMonitor = False\n",
    "\n",
    "from nndependability.rv import nipmonitor\n",
    "intervalmonitor = nipmonitor.NIP_Monitor(num_classes, sizeOfNeuronsToMonitor, threshold1, threshold2, neuronIndicesToBeOmitted)"
   ]
  },
  {
   "cell_type": "code",
   "execution_count": 45,
   "metadata": {},
   "outputs": [],
   "source": [
    "classToAnalyze = stopSignClass\n",
    "# Use below if we want to analyze the complete class\n",
    "# classToAnalyze = -1\n",
    "\n",
    "if runIntervalMonitor: \n",
    "\n",
    "    with torch.no_grad():\n",
    "        for images, labels in loader:\n",
    "            labels = labels.to(device)\n",
    "            outputs, intermediateValues = net.forwardWithIntermediate(images)\n",
    "            _, predicted = torch.max(outputs.data, 1)\n",
    "            total += labels.size(0)\n",
    "            correct += (predicted == labels).sum().item()\n",
    "\n",
    "            # Add the batch of neuron activation patterns to the monitor, with only the 0-th class\n",
    "            intervalmonitor.addAllNeuronPatternsToClass(intermediateValues.numpy(), predicted.numpy(), labels.numpy(), classToAnalyze)"
   ]
  },
  {
   "cell_type": "code",
   "execution_count": 46,
   "metadata": {},
   "outputs": [],
   "source": [
    "def testIntervalMonitor(testOnAllClasses, loader, monitor):\n",
    "    # We don't need to compute gradients (for memory efficiency)\n",
    "    with torch.no_grad():\n",
    "        correct = 0\n",
    "        outofActivationPattern = 0\n",
    "        outofActivationPatternAndResultWrong = 0\n",
    "\n",
    "        total = 0\n",
    "        for images, labels in testloader:\n",
    "            labels = labels.to(device)\n",
    "            outputs, intermediateValues = net.forwardWithIntermediate(images)\n",
    "            _, predicted = torch.max(outputs.data, 1)\n",
    "            total += labels.size(0)\n",
    "            correct += (predicted == labels).sum().item()\n",
    "\n",
    "            # Additional processing for runtime monitoring\n",
    "\n",
    "            predictedNp = predicted.numpy()\n",
    "\n",
    "            result = (predicted == labels)\n",
    "            res = result.numpy()\n",
    "\n",
    "            # Iterate over each image in the batch\n",
    "            for exampleIndex in range(intermediateValues.shape[0]): \n",
    "                if (classToAnalyze == -1) or (predicted.numpy()[exampleIndex] == classToAnalyze): \n",
    "                    if not intervalmonitor.isPatternContained(intermediateValues.numpy()[exampleIndex,:], predicted.numpy()[exampleIndex]):\n",
    "                        outofActivationPattern = outofActivationPattern +1\n",
    "                        if res[exampleIndex] == False :\n",
    "                            outofActivationPatternAndResultWrong = outofActivationPatternAndResultWrong + 1\n",
    "\n",
    "        print('Result on interval-based monitor ([0,1,2,3]:= [<=0, 0-33%, 33%-66%, >66%] in max training value: ')      \n",
    "        print('Accuracy of the network on the test images: {} %'.format(100 * correct / total))\n",
    "    if classToAnalyze == -1:\n",
    "        print('Out-of-activation pattern on the GTSRB test images: {} %'.format(100 * outofActivationPattern / total))\n",
    "        print('Out-of-activation pattern & misclassified / out-of-activation pattern : {} %'.format(100 * outofActivationPatternAndResultWrong / (outofActivationPattern)))\n",
    "    else:\n",
    "        print('Out-of-extended activation pattern on GTSRB test images, for class '+str(classToAnalyze)+':  {} %'.format(100 * outofActivationPattern / class_total[classToAnalyze]))\n",
    "        print('Out-of-activation pattern & misclassified / out-of-activation pattern for class '+str(classToAnalyze)+': {} %'.format(100 * outofActivationPatternAndResultWrong / (outofActivationPattern)))\n",
    "\n",
    "testOnAllClasses = False\n",
    "        \n",
    "if runIntervalMonitor: \n",
    "    testIntervalMonitor(testOnAllClasses, testloader, intervalmonitor)\n",
    "\n"
   ]
  },
  {
   "cell_type": "markdown",
   "metadata": {},
   "source": [
    "### Let's further allow some fluctuation, and see how much are we gaining"
   ]
  },
  {
   "cell_type": "code",
   "execution_count": 47,
   "metadata": {},
   "outputs": [],
   "source": [
    "if runIntervalMonitor:     \n",
    "    intervalmonitor.enlargeSetByOneBitFluctuation(stopSignClass)    \n",
    "    testIntervalMonitor(testOnAllClasses, testloader, intervalmonitor)"
   ]
  },
  {
   "cell_type": "markdown",
   "metadata": {},
   "source": [
    "Let's enlarge it again"
   ]
  },
  {
   "cell_type": "code",
   "execution_count": 48,
   "metadata": {},
   "outputs": [],
   "source": [
    "if runIntervalMonitor:     \n",
    "    intervalmonitor.enlargeSetByOneBitFluctuation(stopSignClass)    \n",
    "    testIntervalMonitor(testOnAllClasses, testloader, intervalmonitor)"
   ]
  },
  {
   "cell_type": "code",
   "execution_count": 49,
   "metadata": {},
   "outputs": [],
   "source": [
    "if runIntervalMonitor:     \n",
    "    intervalmonitor.enlargeSetByOneBitFluctuation(stopSignClass)    \n",
    "    testIntervalMonitor(testOnAllClasses, testloader, intervalmonitor)"
   ]
  },
  {
   "cell_type": "code",
   "execution_count": null,
   "metadata": {},
   "outputs": [],
   "source": []
  }
 ],
 "metadata": {
  "kernelspec": {
   "display_name": "Python 3",
   "language": "python",
   "name": "python3"
  },
  "language_info": {
   "codemirror_mode": {
    "name": "ipython",
    "version": 3
   },
   "file_extension": ".py",
   "mimetype": "text/x-python",
   "name": "python",
   "nbconvert_exporter": "python",
   "pygments_lexer": "ipython3",
   "version": "3.6.13"
  }
 },
 "nbformat": 4,
 "nbformat_minor": 2
}
