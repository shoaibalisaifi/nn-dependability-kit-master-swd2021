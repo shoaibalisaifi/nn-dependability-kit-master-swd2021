{
 "cells": [
  {
   "cell_type": "markdown",
   "metadata": {},
   "source": [
    "# Scenario Projection Coverage over Simple Data Sets\n",
    "\n"
   ]
  },
  {
   "cell_type": "code",
   "execution_count": 1,
   "metadata": {},
   "outputs": [],
   "source": [
    "# Put these at the top of every notebook, to get automatic reloading and inline plotting\n",
    "%reload_ext autoreload\n",
    "%autoreload 2\n",
    "%matplotlib inline"
   ]
  },
  {
   "cell_type": "code",
   "execution_count": 2,
   "metadata": {},
   "outputs": [],
   "source": [
    "from nndependability.metrics import ScenarioKProjection\n",
    "\n",
    "metric = ScenarioKProjection.Scenario_KProjection_Metric(\"data/scenario_coverage/simple/description.xml\")"
   ]
  },
  {
   "cell_type": "code",
   "execution_count": 3,
   "metadata": {},
   "outputs": [
    {
     "name": "stdout",
     "output_type": "stream",
     "text": [
      "2-projection coverage (without considering domain restrictions): 29/70\n"
     ]
    }
   ],
   "source": [
    "metric.addScenariosFromFile(\"data/scenario_coverage/simple/scenarios.xml\")"
   ]
  },
  {
   "cell_type": "code",
   "execution_count": 4,
   "metadata": {},
   "outputs": [
    {
     "name": "stdout",
     "output_type": "stream",
     "text": [
      "1.0 <=  + 1.0 C1_1 + 1.0 C2_0 <= inf\n"
     ]
    }
   ],
   "source": [
    "metric.addDomainRestrictionsFromFile(\"data/scenario_coverage/simple/domain-restrictions.xml\")"
   ]
  },
  {
   "cell_type": "code",
   "execution_count": 5,
   "metadata": {},
   "outputs": [],
   "source": [
    "from nndependability.atg.scenario import scenariogen"
   ]
  },
  {
   "cell_type": "code",
   "execution_count": 6,
   "metadata": {},
   "outputs": [
    {
     "name": "stdout",
     "output_type": "stream",
     "text": [
      "Optimal solution found\n",
      "Maximum possibility for improvement = 41\n",
      "Optimal objective value computed from IP = 14\n",
      "\n",
      "for criterion weather, set it to sunny\n",
      "for criterion total_lanes, set it to 4\n",
      "for criterion current_lanes, set it to 2\n",
      "for criterion straight_curvy, set it to straight\n",
      "for criterion forward_car, set it to True\n",
      "for criterion oncoming_car, set it to False\n"
     ]
    }
   ],
   "source": [
    "variableAssignment = scenariogen.proposeScenariocandidate(metric)"
   ]
  },
  {
   "cell_type": "code",
   "execution_count": 7,
   "metadata": {},
   "outputs": [],
   "source": [
    "metric.writeScenarioToFile(variableAssignment, \"tmp.xml\")"
   ]
  },
  {
   "cell_type": "code",
   "execution_count": 8,
   "metadata": {},
   "outputs": [
    {
     "name": "stdout",
     "output_type": "stream",
     "text": [
      "2-projection coverage (without considering domain restrictions): 43/70\n"
     ]
    }
   ],
   "source": [
    "metric.addScenariosFromFile(\"tmp.xml\")"
   ]
  },
  {
   "cell_type": "code",
   "execution_count": 9,
   "metadata": {},
   "outputs": [
    {
     "name": "stdout",
     "output_type": "stream",
     "text": [
      "Optimal solution found\n",
      "Maximum possibility for improvement = 27\n",
      "Optimal objective value computed from IP = 10\n",
      "\n",
      "for criterion weather, set it to sunny\n",
      "for criterion total_lanes, set it to 2\n",
      "for criterion current_lanes, set it to 1\n",
      "for criterion straight_curvy, set it to curvy\n",
      "for criterion forward_car, set it to False\n",
      "for criterion oncoming_car, set it to False\n"
     ]
    }
   ],
   "source": [
    "variableAssignment = scenariogen.proposeScenariocandidate(metric)"
   ]
  },
  {
   "cell_type": "code",
   "execution_count": 10,
   "metadata": {},
   "outputs": [],
   "source": [
    "metric.writeScenarioToFile(variableAssignment, \"tmp2.xml\")"
   ]
  },
  {
   "cell_type": "code",
   "execution_count": 11,
   "metadata": {},
   "outputs": [
    {
     "name": "stdout",
     "output_type": "stream",
     "text": [
      "2-projection coverage (without considering domain restrictions): 53/70\n"
     ]
    }
   ],
   "source": [
    "metric.addScenariosFromFile(\"tmp2.xml\")"
   ]
  },
  {
   "cell_type": "code",
   "execution_count": 12,
   "metadata": {},
   "outputs": [
    {
     "name": "stdout",
     "output_type": "stream",
     "text": [
      "Optimal solution found\n",
      "Maximum possibility for improvement = 17\n",
      "Optimal objective value computed from IP = 7\n",
      "\n",
      "for criterion weather, set it to sunny\n",
      "for criterion total_lanes, set it to 2\n",
      "for criterion current_lanes, set it to 1\n",
      "for criterion straight_curvy, set it to curvy\n",
      "for criterion forward_car, set it to True\n",
      "for criterion oncoming_car, set it to False\n"
     ]
    }
   ],
   "source": [
    "variableAssignment = scenariogen.proposeScenariocandidate(metric)"
   ]
  },
  {
   "cell_type": "code",
   "execution_count": null,
   "metadata": {},
   "outputs": [],
   "source": []
  }
 ],
 "metadata": {
  "kernelspec": {
   "display_name": "Python 3",
   "language": "python",
   "name": "python3"
  },
  "language_info": {
   "codemirror_mode": {
    "name": "ipython",
    "version": 3
   },
   "file_extension": ".py",
   "mimetype": "text/x-python",
   "name": "python",
   "nbconvert_exporter": "python",
   "pygments_lexer": "ipython3",
   "version": "3.6.13"
  }
 },
 "nbformat": 4,
 "nbformat_minor": 2
}
